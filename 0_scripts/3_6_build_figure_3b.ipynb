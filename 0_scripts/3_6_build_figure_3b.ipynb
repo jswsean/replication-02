{
 "cells": [
  {
   "cell_type": "code",
   "execution_count": 18,
   "id": "49a6c082",
   "metadata": {},
   "outputs": [],
   "source": [
    "import numpy as np\n",
    "import pandas as pd\n",
    "import matplotlib.pyplot as plt\n",
    "from tabulate import tabulate\n",
    "from sklearn.decomposition import PCA\n",
    "from gensim.models.doc2vec import Doc2Vec\n",
    "import os\n",
    "import re\n",
    "\n",
    "import sys\n",
    "sys.path.append('utils')\n",
    "import labels\n",
    "import plots \n",
    "import interpret\n",
    "import accuracy\n",
    "from accuracy import pairwise_accuracy\n",
    "from interpret import Interpret\n",
    "\n",
    "#import utils.labels as labels\n",
    "#import utils.plots as plots\n",
    "#from utils.interpret import Interpret\n",
    "#from utils.accuracy import pairwise_accuracy"
   ]
  },
  {
   "cell_type": "markdown",
   "id": "727f1d11",
   "metadata": {},
   "source": [
    "## Figure 3- Party Placement in Canada"
   ]
  },
  {
   "cell_type": "code",
   "execution_count": 7,
   "id": "8d510d6d",
   "metadata": {},
   "outputs": [],
   "source": [
    "# load in Canada model\n",
    "\n",
    "canmodel = Doc2Vec.load('model/updated_model')\n",
    "\n",
    "can_dict = labels.party_labels('Canada')\n",
    "cannames, canparties, cancols, canmkers = labels.party_tags(canmodel, 'Canada')\n",
    "\n",
    "# preprocess the keys in canparties to have it match the inverted can_dict\n",
    "#canparties_processed = [party.replace('_', ' ') for party in canparties]\n",
    "\n",
    "# invert the dictionary to map from values to keys\n",
    "can_dict_inverted = {value: key for key, value in can_dict.items()}\n",
    "\n",
    "# changing this so that it only looks at ones that are actually in the dictionary\n",
    "canlabs = [can_dict_inverted[p] for p in canparties if p in can_dict_inverted]\n",
    "Mcan = canmodel.vector_size\n",
    "#Pcan = len(canparties_processed)\n",
    "Pcan = len(canparties)\n"
   ]
  },
  {
   "cell_type": "code",
   "execution_count": 8,
   "id": "ee1560c5",
   "metadata": {},
   "outputs": [
    {
     "name": "stderr",
     "output_type": "stream",
     "text": [
      "/var/folders/r_/rw1ty4x55gl73b77mkvn_bkc0000gn/T/ipykernel_31896/2325840444.py:3: DeprecationWarning: Call to deprecated `docvecs` (The `docvecs` property has been renamed `dv`.).\n",
      "  zcan[i,:] = canmodel.docvecs[canparties[i]]\n"
     ]
    }
   ],
   "source": [
    "zcan = np.zeros((Pcan, Mcan))\n",
    "for i in range(Pcan):\n",
    "    zcan[i,:] = canmodel.docvecs[canparties[i]]\n",
    "pca_can = PCA(n_components = 2)\n",
    "Zcan = pd.DataFrame(pca_can.fit_transform(zcan), columns = ['dim1', 'dim2'])\n",
    "\n",
    "# GRACE NEED TO GET LABELS TO WORK\n",
    "Zcan['label'] = canparties"
   ]
  },
  {
   "cell_type": "code",
   "execution_count": 9,
   "id": "dabf716e",
   "metadata": {},
   "outputs": [
    {
     "data": {
      "text/html": [
       "<div>\n",
       "<style scoped>\n",
       "    .dataframe tbody tr th:only-of-type {\n",
       "        vertical-align: middle;\n",
       "    }\n",
       "\n",
       "    .dataframe tbody tr th {\n",
       "        vertical-align: top;\n",
       "    }\n",
       "\n",
       "    .dataframe thead th {\n",
       "        text-align: right;\n",
       "    }\n",
       "</style>\n",
       "<table border=\"1\" class=\"dataframe\">\n",
       "  <thead>\n",
       "    <tr style=\"text-align: right;\">\n",
       "      <th></th>\n",
       "      <th>dim1</th>\n",
       "      <th>dim2</th>\n",
       "      <th>label</th>\n",
       "    </tr>\n",
       "  </thead>\n",
       "  <tbody>\n",
       "    <tr>\n",
       "      <th>0</th>\n",
       "      <td>8.263308</td>\n",
       "      <td>-9.224139</td>\n",
       "      <td>New Democratic Party_2013</td>\n",
       "    </tr>\n",
       "    <tr>\n",
       "      <th>1</th>\n",
       "      <td>8.472222</td>\n",
       "      <td>-9.399086</td>\n",
       "      <td>New Democratic Party_2014</td>\n",
       "    </tr>\n",
       "    <tr>\n",
       "      <th>2</th>\n",
       "      <td>5.877826</td>\n",
       "      <td>-10.291950</td>\n",
       "      <td>New Democratic Party_2015</td>\n",
       "    </tr>\n",
       "    <tr>\n",
       "      <th>3</th>\n",
       "      <td>7.701108</td>\n",
       "      <td>-8.616850</td>\n",
       "      <td>New Democratic Party_2012</td>\n",
       "    </tr>\n",
       "    <tr>\n",
       "      <th>4</th>\n",
       "      <td>-5.111331</td>\n",
       "      <td>-11.023739</td>\n",
       "      <td>New Democratic Party_1988</td>\n",
       "    </tr>\n",
       "    <tr>\n",
       "      <th>...</th>\n",
       "      <td>...</td>\n",
       "      <td>...</td>\n",
       "      <td>...</td>\n",
       "    </tr>\n",
       "    <tr>\n",
       "      <th>509</th>\n",
       "      <td>-11.894556</td>\n",
       "      <td>-2.139780</td>\n",
       "      <td>Conservative_2005</td>\n",
       "    </tr>\n",
       "    <tr>\n",
       "      <th>510</th>\n",
       "      <td>-8.705391</td>\n",
       "      <td>0.334099</td>\n",
       "      <td>Progressive Conservative_2002</td>\n",
       "    </tr>\n",
       "    <tr>\n",
       "      <th>511</th>\n",
       "      <td>-8.015775</td>\n",
       "      <td>0.937191</td>\n",
       "      <td>Progressive Conservative_2003</td>\n",
       "    </tr>\n",
       "    <tr>\n",
       "      <th>512</th>\n",
       "      <td>-9.517301</td>\n",
       "      <td>-1.676125</td>\n",
       "      <td>Conservative_2004</td>\n",
       "    </tr>\n",
       "    <tr>\n",
       "      <th>513</th>\n",
       "      <td>-6.587929</td>\n",
       "      <td>-0.219875</td>\n",
       "      <td>Progressive Conservative_2004</td>\n",
       "    </tr>\n",
       "  </tbody>\n",
       "</table>\n",
       "<p>514 rows × 3 columns</p>\n",
       "</div>"
      ],
      "text/plain": [
       "          dim1       dim2                          label\n",
       "0     8.263308  -9.224139      New Democratic Party_2013\n",
       "1     8.472222  -9.399086      New Democratic Party_2014\n",
       "2     5.877826 -10.291950      New Democratic Party_2015\n",
       "3     7.701108  -8.616850      New Democratic Party_2012\n",
       "4    -5.111331 -11.023739      New Democratic Party_1988\n",
       "..         ...        ...                            ...\n",
       "509 -11.894556  -2.139780              Conservative_2005\n",
       "510  -8.705391   0.334099  Progressive Conservative_2002\n",
       "511  -8.015775   0.937191  Progressive Conservative_2003\n",
       "512  -9.517301  -1.676125              Conservative_2004\n",
       "513  -6.587929  -0.219875  Progressive Conservative_2004\n",
       "\n",
       "[514 rows x 3 columns]"
      ]
     },
     "execution_count": 9,
     "metadata": {},
     "output_type": "execute_result"
    }
   ],
   "source": [
    "Zcan"
   ]
  },
  {
   "cell_type": "code",
   "execution_count": 34,
   "id": "91db0016",
   "metadata": {},
   "outputs": [],
   "source": [
    "# change all instances of 'New democratic party' to NDP\n",
    "\n",
    "Zcan['label'] = Zcan['label'].apply(lambda x: re.sub(r'New Democratic Party', 'NDP', x))\n",
    "Zcan['label'] = Zcan['label'].apply(lambda x: re.sub(r'Conservative', 'Cons', x))\n",
    "Zcan['label'] = Zcan['label'].apply(lambda x: re.sub(r'Bloc Québécois', 'Bloc', x))\n",
    "# had to do my own research to find out that reform party/canadian alliance merged with the progressive conservative party\n",
    "Zcan['label'] = Zcan['label'].apply(lambda x: re.sub(r'Progressive Cons', 'RefAll', x))"
   ]
  },
  {
   "cell_type": "code",
   "execution_count": 27,
   "id": "42cf3842",
   "metadata": {},
   "outputs": [],
   "source": [
    "# Re-orienting the first axis for substantive interpretation:\n",
    "if Zcan[Zcan.label=='NDP_2015'].dim1.values[0] > Zcan[Zcan.label=='Cons_2015'].dim1.values[0]:\n",
    "    Zcan['dim1'] = Zcan.dim1 * (-1)"
   ]
  },
  {
   "cell_type": "code",
   "execution_count": 28,
   "id": "30975cf9",
   "metadata": {},
   "outputs": [
    {
     "name": "stdout",
     "output_type": "stream",
     "text": [
      "Saved Figure 3b to file figures/figure3b.pdf\n"
     ]
    }
   ],
   "source": [
    "plots.plot_3b(Zcan, canlabs, cancols, canmkers, savepath='figures/figure3b.pdf')\n",
    "print(\"Saved Figure 3b to file figures/figure3b.pdf\")"
   ]
  }
 ],
 "metadata": {
  "kernelspec": {
   "display_name": "Python 3 (ipykernel)",
   "language": "python",
   "name": "python3"
  },
  "language_info": {
   "codemirror_mode": {
    "name": "ipython",
    "version": 3
   },
   "file_extension": ".py",
   "mimetype": "text/x-python",
   "name": "python",
   "nbconvert_exporter": "python",
   "pygments_lexer": "ipython3",
   "version": "3.9.12"
  }
 },
 "nbformat": 4,
 "nbformat_minor": 5
}
